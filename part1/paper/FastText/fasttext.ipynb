{
 "cells": [
  {
   "cell_type": "markdown",
   "metadata": {
    "collapsed": true
   },
   "source": [
    "## Word2vec 개괄\n",
    "https://shuuki4.wordpress.com/2016/01/27/word2vec-%EA%B4%80%EB%A0%A8-%EC%9D%B4%EB%A1%A0-%EC%A0%95%EB%A6%AC/"
   ]
  },
  {
   "cell_type": "markdown",
   "metadata": {},
   "source": [
    "## FastText 이론\n",
    "https://research.fb.com/projects/fasttext/<br>\n",
    "https://github.com/facebookresearch/fastText"
   ]
  },
  {
   "cell_type": "markdown",
   "metadata": {},
   "source": [
    "## FastText 실습"
   ]
  },
  {
   "cell_type": "code",
   "execution_count": 1,
   "metadata": {
    "collapsed": true
   },
   "outputs": [],
   "source": [
    "import fasttext"
   ]
  },
  {
   "cell_type": "code",
   "execution_count": 2,
   "metadata": {
    "collapsed": false
   },
   "outputs": [],
   "source": [
    "model = fasttext.skipgram('data.txt', 'model')"
   ]
  },
  {
   "cell_type": "code",
   "execution_count": 3,
   "metadata": {
    "collapsed": false
   },
   "outputs": [
    {
     "name": "stdout",
     "output_type": "stream",
     "text": [
      "set([u'and', u'Apple', u'of', u'company', u\"world's\", u'to', u'as', u'in', u'the'])\n"
     ]
    }
   ],
   "source": [
    "print model.words"
   ]
  },
  {
   "cell_type": "code",
   "execution_count": null,
   "metadata": {
    "collapsed": true
   },
   "outputs": [],
   "source": [
    "model = fasttext.cbow('data.txt', 'model')"
   ]
  },
  {
   "cell_type": "code",
   "execution_count": null,
   "metadata": {
    "collapsed": false
   },
   "outputs": [],
   "source": [
    "print model.words"
   ]
  },
  {
   "cell_type": "code",
   "execution_count": 4,
   "metadata": {
    "collapsed": false
   },
   "outputs": [
    {
     "name": "stdout",
     "output_type": "stream",
     "text": [
      "[0.00013716619287151843, -0.0006537468871101737, 0.0008783413795754313, -0.004717069212347269, -0.0020429263822734356, -0.003245475934818387, -0.004442428704351187, 0.0011407829588279128, 0.001211250782944262, 0.002577331615611911, 0.0015453178202733397, -0.001981254667043686, -0.001753350137732923, 0.007332177832722664, -0.0008665219647809863, -0.00019301814609207213, 0.0017681183526292443, -0.0014982891734689474, -0.0003462009481154382, -0.0005008721491321921, 0.001745364279486239, -0.0012022735318168998, 0.004472666885703802, -0.0015375622315332294, -0.0028841577004641294, 0.0010899020126089454, -0.0022162417881190777, 0.00220395065844059, 0.00015021851868368685, -0.0024771769531071186, 0.0033811023458838463, -0.0020241420716047287, -0.0027359321247786283, 0.001834980444982648, -0.002295571845024824, -0.002835630439221859, -0.002197704976424575, 0.0035888543352484703, 0.0017989095067605376, 0.0011330995475873351, -0.00501801585778594, 0.0022578854113817215, -0.0012973796110600233, 0.003148625837638974, 0.0024751226883381605, 0.0001151582328020595, -0.001258435077033937, -0.0007608705782331526, 0.0003566019586287439, 0.0016768967034295201, 0.003685284871608019, -0.005445997230708599, -0.00043646994163282216, -0.003938531037420034, -0.00031903432682156563, 0.0016021541086956859, -0.006431643385440111, -0.004545917734503746, -0.001981134992092848, 0.0024420730769634247, -0.001410810393281281, -0.00253740674816072, 0.0012788320891559124, 0.004568202421069145, 0.003982932306826115, 0.002550476463511586, -0.0034876822028309107, 0.0007222498534247279, 0.00091170659288764, 0.0009232286247424781, -0.0006406028987839818, 0.0003990592376794666, -0.0022922169882804155, -0.002099428791552782, 0.004532430320978165, -3.891731012117816e-06, -0.0034249203745275736, -0.0008155035902746022, 0.0006122677004896104, 0.002072324510663748, 0.003430213313549757, -0.0010215956717729568, 0.002123433630913496, 0.000778916000854224, 0.006927511654794216, 0.0019001283217221498, -0.0010689216433092952, 0.0006596788298338652, 0.0023624717723578215, 0.0031671456526964903, 0.0010008885292336345, 0.0012262724339962006, 0.006951366551220417, 0.004340260289609432, 0.0058602336794137955, 0.004161231219768524, 8.592974336352199e-05, -0.0008099625119939446, 0.0016633453778922558, -0.007458689156919718]\n"
     ]
    }
   ],
   "source": [
    "print model['and']"
   ]
  },
  {
   "cell_type": "code",
   "execution_count": null,
   "metadata": {
    "collapsed": false
   },
   "outputs": [],
   "source": [
    "model = fasttext.load_model('model.bin')\n",
    "print model.words"
   ]
  },
  {
   "cell_type": "code",
   "execution_count": null,
   "metadata": {
    "collapsed": false
   },
   "outputs": [],
   "source": [
    "print model['and']"
   ]
  },
  {
   "cell_type": "code",
   "execution_count": null,
   "metadata": {
    "collapsed": true
   },
   "outputs": [],
   "source": [
    "classifier = fasttext.supervised('./fastText/data/dbpedia.train', 'model')"
   ]
  },
  {
   "cell_type": "code",
   "execution_count": null,
   "metadata": {
    "collapsed": true
   },
   "outputs": [],
   "source": [
    "texts = ['apple', 'banana']\n",
    "labels = classifier.predict(texts)"
   ]
  },
  {
   "cell_type": "code",
   "execution_count": null,
   "metadata": {
    "collapsed": false
   },
   "outputs": [],
   "source": [
    "print labels"
   ]
  }
 ],
 "metadata": {
  "kernelspec": {
   "display_name": "Python 2",
   "language": "python",
   "name": "python2"
  },
  "language_info": {
   "codemirror_mode": {
    "name": "ipython",
    "version": 2
   },
   "file_extension": ".py",
   "mimetype": "text/x-python",
   "name": "python",
   "nbconvert_exporter": "python",
   "pygments_lexer": "ipython2",
   "version": "2.7.6"
  }
 },
 "nbformat": 4,
 "nbformat_minor": 2
}
